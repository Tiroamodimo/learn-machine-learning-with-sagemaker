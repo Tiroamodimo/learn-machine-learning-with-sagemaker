{
 "cells": [
  {
   "cell_type": "markdown",
   "source": [
    "# Prepare prerequisites for the training and deployment steps.\n",
    "\n"
   ],
   "metadata": {
    "collapsed": false,
    "pycharm": {
     "name": "#%% md\n"
    }
   }
  },
  {
   "cell_type": "markdown",
   "source": [
    "in the first cell of the Jupyter Notebook, use pip install to upgrade sagemaker[local]"
   ],
   "metadata": {
    "collapsed": false,
    "pycharm": {
     "name": "#%% md\n"
    }
   }
  },
  {
   "cell_type": "code",
   "execution_count": 1,
   "outputs": [
    {
     "name": "stdout",
     "output_type": "stream",
     "text": [
      "Requirement already satisfied: sagemaker[local] in /home/letlhogile/Documents/educational_projects/202208_02_ML_Sagemaker_Cookbook/venv/lib/python3.10/site-packages (2.109.0)\r\n",
      "Requirement already satisfied: protobuf<4.0,>=3.1 in /home/letlhogile/Documents/educational_projects/202208_02_ML_Sagemaker_Cookbook/venv/lib/python3.10/site-packages (from sagemaker[local]) (3.20.2)\r\n",
      "Requirement already satisfied: importlib-metadata<5.0,>=1.4.0 in /home/letlhogile/Documents/educational_projects/202208_02_ML_Sagemaker_Cookbook/venv/lib/python3.10/site-packages (from sagemaker[local]) (4.12.0)\r\n",
      "Requirement already satisfied: protobuf3-to-dict<1.0,>=0.1.5 in /home/letlhogile/Documents/educational_projects/202208_02_ML_Sagemaker_Cookbook/venv/lib/python3.10/site-packages (from sagemaker[local]) (0.1.5)\r\n",
      "Requirement already satisfied: pandas in /home/letlhogile/Documents/educational_projects/202208_02_ML_Sagemaker_Cookbook/venv/lib/python3.10/site-packages (from sagemaker[local]) (1.4.4)\r\n",
      "Requirement already satisfied: google-pasta in /home/letlhogile/Documents/educational_projects/202208_02_ML_Sagemaker_Cookbook/venv/lib/python3.10/site-packages (from sagemaker[local]) (0.2.0)\r\n",
      "Requirement already satisfied: attrs<22,>=20.3.0 in /home/letlhogile/Documents/educational_projects/202208_02_ML_Sagemaker_Cookbook/venv/lib/python3.10/site-packages (from sagemaker[local]) (21.4.0)\r\n",
      "Requirement already satisfied: boto3<2.0,>=1.20.21 in /home/letlhogile/Documents/educational_projects/202208_02_ML_Sagemaker_Cookbook/venv/lib/python3.10/site-packages (from sagemaker[local]) (1.24.78)\r\n",
      "Requirement already satisfied: smdebug-rulesconfig==1.0.1 in /home/letlhogile/Documents/educational_projects/202208_02_ML_Sagemaker_Cookbook/venv/lib/python3.10/site-packages (from sagemaker[local]) (1.0.1)\r\n",
      "Requirement already satisfied: pathos in /home/letlhogile/Documents/educational_projects/202208_02_ML_Sagemaker_Cookbook/venv/lib/python3.10/site-packages (from sagemaker[local]) (0.2.9)\r\n",
      "Requirement already satisfied: packaging>=20.0 in /home/letlhogile/Documents/educational_projects/202208_02_ML_Sagemaker_Cookbook/venv/lib/python3.10/site-packages (from sagemaker[local]) (21.3)\r\n",
      "Requirement already satisfied: numpy<2.0,>=1.9.0 in /home/letlhogile/Documents/educational_projects/202208_02_ML_Sagemaker_Cookbook/venv/lib/python3.10/site-packages (from sagemaker[local]) (1.23.3)\r\n",
      "Requirement already satisfied: urllib3==1.26.8 in /home/letlhogile/Documents/educational_projects/202208_02_ML_Sagemaker_Cookbook/venv/lib/python3.10/site-packages (from sagemaker[local]) (1.26.8)\r\n",
      "Requirement already satisfied: docker~=5.0.0 in /home/letlhogile/Documents/educational_projects/202208_02_ML_Sagemaker_Cookbook/venv/lib/python3.10/site-packages (from sagemaker[local]) (5.0.3)\r\n",
      "Requirement already satisfied: docker-compose==1.29.2 in /home/letlhogile/Documents/educational_projects/202208_02_ML_Sagemaker_Cookbook/venv/lib/python3.10/site-packages (from sagemaker[local]) (1.29.2)\r\n",
      "Requirement already satisfied: PyYAML==5.4.1 in /home/letlhogile/Documents/educational_projects/202208_02_ML_Sagemaker_Cookbook/venv/lib/python3.10/site-packages (from sagemaker[local]) (5.4.1)\r\n",
      "Requirement already satisfied: docopt<1,>=0.6.1 in /home/letlhogile/Documents/educational_projects/202208_02_ML_Sagemaker_Cookbook/venv/lib/python3.10/site-packages (from docker-compose==1.29.2->sagemaker[local]) (0.6.2)\r\n",
      "Requirement already satisfied: jsonschema<4,>=2.5.1 in /home/letlhogile/Documents/educational_projects/202208_02_ML_Sagemaker_Cookbook/venv/lib/python3.10/site-packages (from docker-compose==1.29.2->sagemaker[local]) (3.2.0)\r\n",
      "Requirement already satisfied: dockerpty<1,>=0.4.1 in /home/letlhogile/Documents/educational_projects/202208_02_ML_Sagemaker_Cookbook/venv/lib/python3.10/site-packages (from docker-compose==1.29.2->sagemaker[local]) (0.4.1)\r\n",
      "Requirement already satisfied: requests<3,>=2.20.0 in /home/letlhogile/Documents/educational_projects/202208_02_ML_Sagemaker_Cookbook/venv/lib/python3.10/site-packages (from docker-compose==1.29.2->sagemaker[local]) (2.28.1)\r\n",
      "Requirement already satisfied: texttable<2,>=0.9.0 in /home/letlhogile/Documents/educational_projects/202208_02_ML_Sagemaker_Cookbook/venv/lib/python3.10/site-packages (from docker-compose==1.29.2->sagemaker[local]) (1.6.4)\r\n",
      "Requirement already satisfied: python-dotenv<1,>=0.13.0 in /home/letlhogile/Documents/educational_projects/202208_02_ML_Sagemaker_Cookbook/venv/lib/python3.10/site-packages (from docker-compose==1.29.2->sagemaker[local]) (0.20.0)\r\n",
      "Requirement already satisfied: websocket-client<1,>=0.32.0 in /home/letlhogile/Documents/educational_projects/202208_02_ML_Sagemaker_Cookbook/venv/lib/python3.10/site-packages (from docker-compose==1.29.2->sagemaker[local]) (0.59.0)\r\n",
      "Requirement already satisfied: distro<2,>=1.5.0 in /home/letlhogile/Documents/educational_projects/202208_02_ML_Sagemaker_Cookbook/venv/lib/python3.10/site-packages (from docker-compose==1.29.2->sagemaker[local]) (1.7.0)\r\n",
      "Requirement already satisfied: botocore<1.28.0,>=1.27.78 in /home/letlhogile/Documents/educational_projects/202208_02_ML_Sagemaker_Cookbook/venv/lib/python3.10/site-packages (from boto3<2.0,>=1.20.21->sagemaker[local]) (1.27.78)\r\n",
      "Requirement already satisfied: s3transfer<0.7.0,>=0.6.0 in /home/letlhogile/Documents/educational_projects/202208_02_ML_Sagemaker_Cookbook/venv/lib/python3.10/site-packages (from boto3<2.0,>=1.20.21->sagemaker[local]) (0.6.0)\r\n",
      "Requirement already satisfied: jmespath<2.0.0,>=0.7.1 in /home/letlhogile/Documents/educational_projects/202208_02_ML_Sagemaker_Cookbook/venv/lib/python3.10/site-packages (from boto3<2.0,>=1.20.21->sagemaker[local]) (1.0.1)\r\n",
      "Requirement already satisfied: zipp>=0.5 in /home/letlhogile/Documents/educational_projects/202208_02_ML_Sagemaker_Cookbook/venv/lib/python3.10/site-packages (from importlib-metadata<5.0,>=1.4.0->sagemaker[local]) (3.8.1)\r\n",
      "Requirement already satisfied: pyparsing!=3.0.5,>=2.0.2 in /home/letlhogile/Documents/educational_projects/202208_02_ML_Sagemaker_Cookbook/venv/lib/python3.10/site-packages (from packaging>=20.0->sagemaker[local]) (3.0.9)\r\n",
      "Requirement already satisfied: six in /home/letlhogile/Documents/educational_projects/202208_02_ML_Sagemaker_Cookbook/venv/lib/python3.10/site-packages (from protobuf3-to-dict<1.0,>=0.1.5->sagemaker[local]) (1.16.0)\r\n",
      "Requirement already satisfied: pytz>=2020.1 in /home/letlhogile/Documents/educational_projects/202208_02_ML_Sagemaker_Cookbook/venv/lib/python3.10/site-packages (from pandas->sagemaker[local]) (2022.2.1)\r\n",
      "Requirement already satisfied: python-dateutil>=2.8.1 in /home/letlhogile/Documents/educational_projects/202208_02_ML_Sagemaker_Cookbook/venv/lib/python3.10/site-packages (from pandas->sagemaker[local]) (2.8.2)\r\n",
      "Requirement already satisfied: dill>=0.3.5.1 in /home/letlhogile/Documents/educational_projects/202208_02_ML_Sagemaker_Cookbook/venv/lib/python3.10/site-packages (from pathos->sagemaker[local]) (0.3.5.1)\r\n",
      "Requirement already satisfied: ppft>=1.7.6.5 in /home/letlhogile/Documents/educational_projects/202208_02_ML_Sagemaker_Cookbook/venv/lib/python3.10/site-packages (from pathos->sagemaker[local]) (1.7.6.5)\r\n",
      "Requirement already satisfied: pox>=0.3.1 in /home/letlhogile/Documents/educational_projects/202208_02_ML_Sagemaker_Cookbook/venv/lib/python3.10/site-packages (from pathos->sagemaker[local]) (0.3.1)\r\n",
      "Requirement already satisfied: multiprocess>=0.70.13 in /home/letlhogile/Documents/educational_projects/202208_02_ML_Sagemaker_Cookbook/venv/lib/python3.10/site-packages (from pathos->sagemaker[local]) (0.70.13)\r\n",
      "Requirement already satisfied: paramiko>=2.4.2 in /home/letlhogile/Documents/educational_projects/202208_02_ML_Sagemaker_Cookbook/venv/lib/python3.10/site-packages (from docker~=5.0.0->sagemaker[local]) (2.11.0)\r\n",
      "Requirement already satisfied: setuptools in /home/letlhogile/Documents/educational_projects/202208_02_ML_Sagemaker_Cookbook/venv/lib/python3.10/site-packages (from jsonschema<4,>=2.5.1->docker-compose==1.29.2->sagemaker[local]) (63.2.0)\r\n",
      "Requirement already satisfied: pyrsistent>=0.14.0 in /home/letlhogile/Documents/educational_projects/202208_02_ML_Sagemaker_Cookbook/venv/lib/python3.10/site-packages (from jsonschema<4,>=2.5.1->docker-compose==1.29.2->sagemaker[local]) (0.18.1)\r\n",
      "Requirement already satisfied: certifi>=2017.4.17 in /home/letlhogile/Documents/educational_projects/202208_02_ML_Sagemaker_Cookbook/venv/lib/python3.10/site-packages (from requests<3,>=2.20.0->docker-compose==1.29.2->sagemaker[local]) (2022.9.14)\r\n",
      "Requirement already satisfied: charset-normalizer<3,>=2 in /home/letlhogile/Documents/educational_projects/202208_02_ML_Sagemaker_Cookbook/venv/lib/python3.10/site-packages (from requests<3,>=2.20.0->docker-compose==1.29.2->sagemaker[local]) (2.1.1)\r\n",
      "Requirement already satisfied: idna<4,>=2.5 in /home/letlhogile/Documents/educational_projects/202208_02_ML_Sagemaker_Cookbook/venv/lib/python3.10/site-packages (from requests<3,>=2.20.0->docker-compose==1.29.2->sagemaker[local]) (3.4)\r\n",
      "Requirement already satisfied: pynacl>=1.0.1 in /home/letlhogile/Documents/educational_projects/202208_02_ML_Sagemaker_Cookbook/venv/lib/python3.10/site-packages (from paramiko>=2.4.2->docker~=5.0.0->sagemaker[local]) (1.5.0)\r\n",
      "Requirement already satisfied: bcrypt>=3.1.3 in /home/letlhogile/Documents/educational_projects/202208_02_ML_Sagemaker_Cookbook/venv/lib/python3.10/site-packages (from paramiko>=2.4.2->docker~=5.0.0->sagemaker[local]) (4.0.0)\r\n",
      "Requirement already satisfied: cryptography>=2.5 in /home/letlhogile/Documents/educational_projects/202208_02_ML_Sagemaker_Cookbook/venv/lib/python3.10/site-packages (from paramiko>=2.4.2->docker~=5.0.0->sagemaker[local]) (38.0.1)\r\n",
      "Requirement already satisfied: cffi>=1.12 in /home/letlhogile/Documents/educational_projects/202208_02_ML_Sagemaker_Cookbook/venv/lib/python3.10/site-packages (from cryptography>=2.5->paramiko>=2.4.2->docker~=5.0.0->sagemaker[local]) (1.15.1)\r\n",
      "Requirement already satisfied: pycparser in /home/letlhogile/Documents/educational_projects/202208_02_ML_Sagemaker_Cookbook/venv/lib/python3.10/site-packages (from cffi>=1.12->cryptography>=2.5->paramiko>=2.4.2->docker~=5.0.0->sagemaker[local]) (2.21)\r\n"
     ]
    }
   ],
   "source": [
    "!pip install 'sagemaker[local]' --upgrade"
   ],
   "metadata": {
    "collapsed": false,
    "pycharm": {
     "name": "#%%\n"
    }
   }
  },
  {
   "cell_type": "markdown",
   "source": [
    "Specify the bucket name where the training_data.csv file is stored. Use the bucket name we created in the Preparing the Amazon S3 bucket and the training dataset for the linear regression experiment recipe of Chapter 1, Getting Started with Machine Learning Using Amazon SageMaker:"
   ],
   "metadata": {
    "collapsed": false,
    "pycharm": {
     "name": "#%% md\n"
    }
   }
  },
  {
   "cell_type": "code",
   "execution_count": 2,
   "outputs": [],
   "source": [
    "s3_bucket = \"ml-sagemaker-cookbook-bucket\"\n",
    "prefix = \"chapter01\""
   ],
   "metadata": {
    "collapsed": false,
    "pycharm": {
     "name": "#%%\n"
    }
   }
  },
  {
   "cell_type": "markdown",
   "source": [
    "Set the variable values for training_s3_input_location and training_s3_output_location"
   ],
   "metadata": {
    "collapsed": false,
    "pycharm": {
     "name": "#%% md\n"
    }
   }
  },
  {
   "cell_type": "code",
   "execution_count": 3,
   "outputs": [],
   "source": [
    "training_s3_input_location = f\"s3://{s3_bucket}/{prefix}/input/training_data.csv\"\n",
    "training_s3_output_location = f\"s3://{s3_bucket}/{prefix}/output/custom/\""
   ],
   "metadata": {
    "collapsed": false,
    "pycharm": {
     "name": "#%%\n"
    }
   }
  },
  {
   "cell_type": "markdown",
   "source": [
    "Import the SageMaker Python SDK and check its version"
   ],
   "metadata": {
    "collapsed": false,
    "pycharm": {
     "name": "#%% md\n"
    }
   }
  },
  {
   "cell_type": "code",
   "execution_count": 4,
   "outputs": [
    {
     "data": {
      "text/plain": "'2.109.0'"
     },
     "execution_count": 4,
     "metadata": {},
     "output_type": "execute_result"
    }
   ],
   "source": [
    "import sagemaker\n",
    "\n",
    "sagemaker.__version__"
   ],
   "metadata": {
    "collapsed": false,
    "pycharm": {
     "name": "#%%\n"
    }
   }
  },
  {
   "cell_type": "markdown",
   "source": [
    "Set the value of the container image."
   ],
   "metadata": {
    "collapsed": false,
    "pycharm": {
     "name": "#%% md\n"
    }
   }
  },
  {
   "cell_type": "code",
   "execution_count": 12,
   "outputs": [],
   "source": [
    "container = \"469889560361.dkr.ecr.eu-west-1.amazonaws.com/chap02_python:1\""
   ],
   "metadata": {
    "collapsed": false,
    "pycharm": {
     "name": "#%%\n"
    }
   }
  },
  {
   "cell_type": "markdown",
   "source": [],
   "metadata": {
    "collapsed": false,
    "pycharm": {
     "name": "#%% md\n"
    }
   }
  },
  {
   "cell_type": "markdown",
   "source": [
    "Import a few prerequisites such as role and session\n",
    "The LocalSession class allows us to use local mode in the training and deployment steps"
   ],
   "metadata": {
    "collapsed": false,
    "pycharm": {
     "name": "#%% md\n"
    }
   }
  },
  {
   "cell_type": "code",
   "execution_count": 6,
   "outputs": [
    {
     "name": "stderr",
     "output_type": "stream",
     "text": [
      "Couldn't call 'get_role' to get Role ARN from role name letlhogile@gometroapp.com to get Role path.\n"
     ]
    }
   ],
   "source": [
    "import boto3\n",
    "from sagemaker import get_execution_role\n",
    "\n",
    "try:\n",
    "    role = get_execution_role()\n",
    "except ValueError:\n",
    "    iam = boto3.client('iam')\n",
    "    role = iam.get_role(RoleName='AmazonSageMaker-ExecutionRole-20210615T144455')['Role']['Arn']\n",
    "\n",
    "from sagemaker.local import LocalSession\n",
    "\n",
    "session = LocalSession()\n",
    "session.config = {'local': {'local_code': True}}"
   ],
   "metadata": {
    "collapsed": false,
    "pycharm": {
     "name": "#%%\n"
    }
   }
  },
  {
   "cell_type": "markdown",
   "source": [
    "Initialize the TrainingInput object for the train data channel"
   ],
   "metadata": {
    "collapsed": false,
    "pycharm": {
     "name": "#%% md\n"
    }
   }
  },
  {
   "cell_type": "code",
   "execution_count": 7,
   "outputs": [],
   "source": [
    "from sagemaker.inputs import TrainingInput\n",
    "\n",
    "train = TrainingInput(training_s3_input_location, content_type=\"text/csv\")"
   ],
   "metadata": {
    "collapsed": false,
    "pycharm": {
     "name": "#%%\n"
    }
   }
  },
  {
   "cell_type": "markdown",
   "source": [
    "# Train Model"
   ],
   "metadata": {
    "collapsed": false,
    "pycharm": {
     "name": "#%% md\n"
    }
   }
  },
  {
   "cell_type": "markdown",
   "source": [
    "Initialize Estimator and use container, role, session, and training_s3_output_location as the parameter values when initializing the Estimator object"
   ],
   "metadata": {
    "collapsed": false,
    "pycharm": {
     "name": "#%% md\n"
    }
   }
  },
  {
   "cell_type": "code",
   "execution_count": 13,
   "outputs": [],
   "source": [
    "estimator = sagemaker.estimator.Estimator(\n",
    "    container,\n",
    "    role,\n",
    "    instance_count=1,\n",
    "    instance_type='local',\n",
    "    output_path=training_s3_output_location,\n",
    "    sagemaker_session=session)"
   ],
   "metadata": {
    "collapsed": false,
    "pycharm": {
     "name": "#%%\n"
    }
   }
  },
  {
   "cell_type": "markdown",
   "source": [
    "Set a few dummy hyperparameters by using the set_hyperparameters() function. Behind the scenes, these values will passed to the hyperparameters.json file inside the /opt/ml/input/config directory, which will be loaded and used by the train script when we run the fit() function later"
   ],
   "metadata": {
    "collapsed": false,
    "pycharm": {
     "name": "#%% md\n"
    }
   }
  },
  {
   "cell_type": "code",
   "execution_count": 14,
   "outputs": [],
   "source": [
    "estimator.set_hyperparameters(a=1, b=2, c=3)"
   ],
   "metadata": {
    "collapsed": false,
    "pycharm": {
     "name": "#%%\n"
    }
   }
  },
  {
   "cell_type": "markdown",
   "source": [
    "Start the training job using fit()"
   ],
   "metadata": {
    "collapsed": false,
    "pycharm": {
     "name": "#%% md\n"
    }
   }
  },
  {
   "cell_type": "code",
   "execution_count": 15,
   "outputs": [
    {
     "name": "stdout",
     "output_type": "stream",
     "text": [
      "WARNING! Your password will be stored unencrypted in /home/letlhogile/.docker/config.json.\r\n",
      "Configure a credential helper to remove this warning. See\r\n",
      "https://docs.docker.com/engine/reference/commandline/login/#credentials-store\r\n",
      "\r\n",
      "Login Succeeded\r\n"
     ]
    }
   ],
   "source": [
    "# !docker login -u AWS -p $password 469889560361.dkr.ecr.eu-west-1.amazonaws.com\n",
    "!aws ecr get-login-password --region eu-west-1 | docker login --username AWS --password-stdin 469889560361.dkr.ecr.eu-west-1.amazonaws.com"
   ],
   "metadata": {
    "collapsed": false,
    "pycharm": {
     "name": "#%%\n"
    }
   }
  },
  {
   "cell_type": "code",
   "execution_count": 16,
   "outputs": [
    {
     "name": "stdout",
     "output_type": "stream",
     "text": [
      "Creating 58r34qk9hh-algo-1-01s4r ... \r\n",
      "Creating 58r34qk9hh-algo-1-01s4r ... done\r\n",
      "Attaching to 58r34qk9hh-algo-1-01s4r\n",
      "\u001B[36m58r34qk9hh-algo-1-01s4r |\u001B[0m [inspect_hyperparameters]\r\n",
      "\u001B[36m58r34qk9hh-algo-1-01s4r |\u001B[0m /opt/ml/input/config/hyperparameters.json\r\n",
      "\u001B[36m58r34qk9hh-algo-1-01s4r |\u001B[0m {'a': '1', 'b': '2', 'c': '3'}\r\n",
      "\u001B[36m58r34qk9hh-algo-1-01s4r |\u001B[0m [inspect_input]\r\n",
      "\u001B[36m58r34qk9hh-algo-1-01s4r |\u001B[0m /opt/ml/input/config/inputdataconfig.json\r\n",
      "\u001B[36m58r34qk9hh-algo-1-01s4r |\u001B[0m {'train': {'ContentType': 'text/csv', 'TrainingInputMode': 'File'}}\r\n",
      "\u001B[36m58r34qk9hh-algo-1-01s4r |\u001B[0m [get_input_data_dir]\r\n",
      "\u001B[36m58r34qk9hh-algo-1-01s4r |\u001B[0m [load_training_data]\r\n",
      "\u001B[36m58r34qk9hh-algo-1-01s4r |\u001B[0m [list_dir_contents]\r\n",
      "\u001B[36m58r34qk9hh-algo-1-01s4r |\u001B[0m ['training_data.csv']\r\n",
      "\u001B[36m58r34qk9hh-algo-1-01s4r |\u001B[0m /opt/ml/input/data/train/training_data.csv\r\n",
      "\u001B[36m58r34qk9hh-algo-1-01s4r |\u001B[0m        0   1\r\n",
      "\u001B[36m58r34qk9hh-algo-1-01s4r |\u001B[0m 0   1020  15\r\n",
      "\u001B[36m58r34qk9hh-algo-1-01s4r |\u001B[0m 1   1390  49\r\n",
      "\u001B[36m58r34qk9hh-algo-1-01s4r |\u001B[0m 2   1590  94\r\n",
      "\u001B[36m58r34qk9hh-algo-1-01s4r |\u001B[0m 3   1290  38\r\n",
      "\u001B[36m58r34qk9hh-algo-1-01s4r |\u001B[0m 4   1750  93\r\n",
      "\u001B[36m58r34qk9hh-algo-1-01s4r |\u001B[0m 5   1240  46\r\n",
      "\u001B[36m58r34qk9hh-algo-1-01s4r |\u001B[0m 6    960   7\r\n",
      "\u001B[36m58r34qk9hh-algo-1-01s4r |\u001B[0m 7   1290  56\r\n",
      "\u001B[36m58r34qk9hh-algo-1-01s4r |\u001B[0m 8    960  19\r\n",
      "\u001B[36m58r34qk9hh-algo-1-01s4r |\u001B[0m 9   1340  67\r\n",
      "\u001B[36m58r34qk9hh-algo-1-01s4r |\u001B[0m 10  1480  71\r\n",
      "\u001B[36m58r34qk9hh-algo-1-01s4r |\u001B[0m 11  1630  65\r\n",
      "\u001B[36m58r34qk9hh-algo-1-01s4r |\u001B[0m 12  1390  73\r\n",
      "\u001B[36m58r34qk9hh-algo-1-01s4r |\u001B[0m 13  1170  29\r\n",
      "\u001B[36m58r34qk9hh-algo-1-01s4r |\u001B[0m [train_model]\r\n",
      "\u001B[36m58r34qk9hh-algo-1-01s4r |\u001B[0m [save_model]\r\n",
      "\u001B[36m58r34qk9hh-algo-1-01s4r |\u001B[0m /opt/ml/model/model\r\n",
      "\u001B[36m58r34qk9hh-algo-1-01s4r |\u001B[0m Model Saved!\r\n",
      "\u001B[36m58r34qk9hh-algo-1-01s4r exited with code 0\n",
      "\u001B[0mAborting on container exit...\n",
      "===== Job Complete =====\n"
     ]
    }
   ],
   "source": [
    "estimator.fit({'train': train})"
   ],
   "metadata": {
    "collapsed": false,
    "pycharm": {
     "name": "#%%\n"
    }
   }
  },
  {
   "cell_type": "markdown",
   "source": [
    "Use the deploy() function to deploy the inference endpoint:"
   ],
   "metadata": {
    "collapsed": false,
    "pycharm": {
     "name": "#%% md\n"
    }
   }
  },
  {
   "cell_type": "code",
   "execution_count": 17,
   "outputs": [
    {
     "name": "stdout",
     "output_type": "stream",
     "text": [
      "Attaching to pq9brxh0vp-algo-1-0orlm\n",
      "\u001B[36mpq9brxh0vp-algo-1-0orlm |\u001B[0m  * Serving Flask app \"serve\" (lazy loading)\r\n",
      "\u001B[36mpq9brxh0vp-algo-1-0orlm |\u001B[0m  * Environment: production\r\n",
      "\u001B[36mpq9brxh0vp-algo-1-0orlm |\u001B[0m \u001B[31m   WARNING: This is a development server. Do not use it in a production deployment.\u001B[0m\r\n",
      "\u001B[36mpq9brxh0vp-algo-1-0orlm |\u001B[0m \u001B[2m   Use a production WSGI server instead.\u001B[0m\r\n",
      "\u001B[36mpq9brxh0vp-algo-1-0orlm |\u001B[0m  * Debug mode: off\r\n",
      "\u001B[36mpq9brxh0vp-algo-1-0orlm |\u001B[0m  * Running on http://0.0.0.0:8080/ (Press CTRL+C to quit)\r\n",
      "\u001B[36mpq9brxh0vp-algo-1-0orlm |\u001B[0m 172.18.0.1 - - [22/Sep/2022 11:47:38] \"\u001B[37mGET /ping HTTP/1.1\u001B[0m\" 200 -\r\n",
      "!"
     ]
    }
   ],
   "source": [
    "predictor = estimator.deploy(\n",
    "    initial_instance_count=1,\n",
    "    instance_type='local',\n",
    "    endpoint_name=\"custom-local-py-endpoint\")"
   ],
   "metadata": {
    "collapsed": false,
    "pycharm": {
     "name": "#%%\n"
    }
   }
  },
  {
   "cell_type": "code",
   "execution_count": 18,
   "outputs": [
    {
     "name": "stdout",
     "output_type": "stream",
     "text": [
      "\u001B[36mpq9brxh0vp-algo-1-0orlm |\u001B[0m /opt/ml/model/model\r\n",
      "\u001B[36mpq9brxh0vp-algo-1-0orlm |\u001B[0m 172.18.0.1 - - [22/Sep/2022 11:48:10] \"\u001B[37mPOST /invocations HTTP/1.1\u001B[0m\" 200 -\r\n"
     ]
    },
    {
     "data": {
      "text/plain": "b'907.8777829046026'"
     },
     "execution_count": 18,
     "metadata": {},
     "output_type": "execute_result"
    }
   ],
   "source": [
    "predictor.predict(\"1\")"
   ],
   "metadata": {
    "collapsed": false,
    "pycharm": {
     "name": "#%%\n"
    }
   }
  },
  {
   "cell_type": "code",
   "execution_count": 19,
   "outputs": [
    {
     "name": "stdout",
     "output_type": "stream",
     "text": [
      "Gracefully stopping... (press Ctrl+C again to force)\n"
     ]
    }
   ],
   "source": [
    "predictor.delete_endpoint()"
   ],
   "metadata": {
    "collapsed": false,
    "pycharm": {
     "name": "#%%\n"
    }
   }
  },
  {
   "cell_type": "code",
   "execution_count": null,
   "outputs": [],
   "source": [],
   "metadata": {
    "collapsed": false,
    "pycharm": {
     "name": "#%%\n"
    }
   }
  }
 ],
 "metadata": {
  "kernelspec": {
   "display_name": "Python 3",
   "language": "python",
   "name": "python3"
  },
  "language_info": {
   "codemirror_mode": {
    "name": "ipython",
    "version": 2
   },
   "file_extension": ".py",
   "mimetype": "text/x-python",
   "name": "python",
   "nbconvert_exporter": "python",
   "pygments_lexer": "ipython2",
   "version": "2.7.6"
  }
 },
 "nbformat": 4,
 "nbformat_minor": 0
}